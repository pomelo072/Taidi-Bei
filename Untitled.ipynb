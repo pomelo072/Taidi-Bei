{
 "cells": [
  {
   "cell_type": "code",
   "execution_count": 1,
   "metadata": {},
   "outputs": [],
   "source": [
    "import numpy as np\n",
    "import pandas as pd"
   ]
  },
  {
   "cell_type": "code",
   "execution_count": 7,
   "metadata": {},
   "outputs": [
    {
     "data": {
      "text/html": [
       "<div>\n",
       "<style scoped>\n",
       "    .dataframe tbody tr th:only-of-type {\n",
       "        vertical-align: middle;\n",
       "    }\n",
       "\n",
       "    .dataframe tbody tr th {\n",
       "        vertical-align: top;\n",
       "    }\n",
       "\n",
       "    .dataframe thead th {\n",
       "        text-align: right;\n",
       "    }\n",
       "</style>\n",
       "<table border=\"1\" class=\"dataframe\">\n",
       "  <thead>\n",
       "    <tr style=\"text-align: right;\">\n",
       "      <th></th>\n",
       "      <th>股票编号</th>\n",
       "      <th>年份（年末）</th>\n",
       "      <th>交易日平均价</th>\n",
       "      <th>预增或预减</th>\n",
       "      <th>超涨或超跌</th>\n",
       "      <th>次新股</th>\n",
       "      <th>每股资本公积(元/股)</th>\n",
       "      <th>每股未分配利润(元/股)</th>\n",
       "      <th>每股资本公积(元/股)+每股未分配利润(元/股)</th>\n",
       "      <th>每股现金流量净额(元/股)</th>\n",
       "      <th>实收资本(或股本)</th>\n",
       "      <th>每股收益(期末摊薄，元/股)</th>\n",
       "      <th>每股净资产(元/股)</th>\n",
       "      <th>营业总收入同必增长(%)</th>\n",
       "      <th>近两年送转比例</th>\n",
       "      <th>上市时间</th>\n",
       "      <th>是否高转送</th>\n",
       "    </tr>\n",
       "  </thead>\n",
       "  <tbody>\n",
       "    <tr>\n",
       "      <td>0</td>\n",
       "      <td>1</td>\n",
       "      <td>1</td>\n",
       "      <td>6.089475</td>\n",
       "      <td>1</td>\n",
       "      <td>0</td>\n",
       "      <td>0</td>\n",
       "      <td>0.1306</td>\n",
       "      <td>0.6765</td>\n",
       "      <td>0.8071</td>\n",
       "      <td>-0.1278</td>\n",
       "      <td>595979092.0</td>\n",
       "      <td>0.4381</td>\n",
       "      <td>1.9153</td>\n",
       "      <td>44.0040</td>\n",
       "      <td>0.000</td>\n",
       "      <td>20</td>\n",
       "      <td>0</td>\n",
       "    </tr>\n",
       "    <tr>\n",
       "      <td>1</td>\n",
       "      <td>1</td>\n",
       "      <td>2</td>\n",
       "      <td>5.661999</td>\n",
       "      <td>1</td>\n",
       "      <td>0</td>\n",
       "      <td>0</td>\n",
       "      <td>0.2015</td>\n",
       "      <td>1.1579</td>\n",
       "      <td>1.3594</td>\n",
       "      <td>0.5510</td>\n",
       "      <td>595979092.0</td>\n",
       "      <td>0.6299</td>\n",
       "      <td>2.5222</td>\n",
       "      <td>30.1415</td>\n",
       "      <td>0.000</td>\n",
       "      <td>21</td>\n",
       "      <td>0</td>\n",
       "    </tr>\n",
       "    <tr>\n",
       "      <td>2</td>\n",
       "      <td>1</td>\n",
       "      <td>3</td>\n",
       "      <td>6.997361</td>\n",
       "      <td>1</td>\n",
       "      <td>0</td>\n",
       "      <td>0</td>\n",
       "      <td>0.2015</td>\n",
       "      <td>1.6314</td>\n",
       "      <td>1.8329</td>\n",
       "      <td>0.3011</td>\n",
       "      <td>595979092.0</td>\n",
       "      <td>0.5048</td>\n",
       "      <td>3.0249</td>\n",
       "      <td>-13.0055</td>\n",
       "      <td>0.125</td>\n",
       "      <td>22</td>\n",
       "      <td>0</td>\n",
       "    </tr>\n",
       "    <tr>\n",
       "      <td>3</td>\n",
       "      <td>1</td>\n",
       "      <td>4</td>\n",
       "      <td>8.953045</td>\n",
       "      <td>1</td>\n",
       "      <td>0</td>\n",
       "      <td>0</td>\n",
       "      <td>0.2013</td>\n",
       "      <td>2.0567</td>\n",
       "      <td>2.2580</td>\n",
       "      <td>-0.2822</td>\n",
       "      <td>595979092.0</td>\n",
       "      <td>0.7005</td>\n",
       "      <td>3.4804</td>\n",
       "      <td>-21.6632</td>\n",
       "      <td>0.235</td>\n",
       "      <td>23</td>\n",
       "      <td>0</td>\n",
       "    </tr>\n",
       "    <tr>\n",
       "      <td>4</td>\n",
       "      <td>1</td>\n",
       "      <td>5</td>\n",
       "      <td>13.715067</td>\n",
       "      <td>1</td>\n",
       "      <td>0</td>\n",
       "      <td>0</td>\n",
       "      <td>0.2013</td>\n",
       "      <td>2.0695</td>\n",
       "      <td>2.2708</td>\n",
       "      <td>0.2087</td>\n",
       "      <td>595979092.0</td>\n",
       "      <td>0.2631</td>\n",
       "      <td>3.5235</td>\n",
       "      <td>-15.0603</td>\n",
       "      <td>0.150</td>\n",
       "      <td>24</td>\n",
       "      <td>0</td>\n",
       "    </tr>\n",
       "    <tr>\n",
       "      <td>...</td>\n",
       "      <td>...</td>\n",
       "      <td>...</td>\n",
       "      <td>...</td>\n",
       "      <td>...</td>\n",
       "      <td>...</td>\n",
       "      <td>...</td>\n",
       "      <td>...</td>\n",
       "      <td>...</td>\n",
       "      <td>...</td>\n",
       "      <td>...</td>\n",
       "      <td>...</td>\n",
       "      <td>...</td>\n",
       "      <td>...</td>\n",
       "      <td>...</td>\n",
       "      <td>...</td>\n",
       "      <td>...</td>\n",
       "      <td>...</td>\n",
       "    </tr>\n",
       "    <tr>\n",
       "      <td>20240</td>\n",
       "      <td>3466</td>\n",
       "      <td>3</td>\n",
       "      <td>6.055550</td>\n",
       "      <td>1</td>\n",
       "      <td>0</td>\n",
       "      <td>0</td>\n",
       "      <td>1.9767</td>\n",
       "      <td>1.5995</td>\n",
       "      <td>3.5762</td>\n",
       "      <td>0.3019</td>\n",
       "      <td>60000000.0</td>\n",
       "      <td>0.5825</td>\n",
       "      <td>4.8430</td>\n",
       "      <td>-10.4560</td>\n",
       "      <td>0.000</td>\n",
       "      <td>0</td>\n",
       "      <td>0</td>\n",
       "    </tr>\n",
       "    <tr>\n",
       "      <td>20241</td>\n",
       "      <td>3466</td>\n",
       "      <td>4</td>\n",
       "      <td>19.284863</td>\n",
       "      <td>1</td>\n",
       "      <td>0</td>\n",
       "      <td>0</td>\n",
       "      <td>2.9481</td>\n",
       "      <td>1.4406</td>\n",
       "      <td>4.3887</td>\n",
       "      <td>0.9897</td>\n",
       "      <td>80000000.0</td>\n",
       "      <td>0.4679</td>\n",
       "      <td>5.6356</td>\n",
       "      <td>9.8894</td>\n",
       "      <td>0.100</td>\n",
       "      <td>1</td>\n",
       "      <td>0</td>\n",
       "    </tr>\n",
       "    <tr>\n",
       "      <td>20242</td>\n",
       "      <td>3466</td>\n",
       "      <td>5</td>\n",
       "      <td>25.935151</td>\n",
       "      <td>1</td>\n",
       "      <td>0</td>\n",
       "      <td>0</td>\n",
       "      <td>2.9481</td>\n",
       "      <td>1.4856</td>\n",
       "      <td>4.4337</td>\n",
       "      <td>-1.4726</td>\n",
       "      <td>80000000.0</td>\n",
       "      <td>0.2738</td>\n",
       "      <td>5.7094</td>\n",
       "      <td>-18.0948</td>\n",
       "      <td>0.155</td>\n",
       "      <td>2</td>\n",
       "      <td>0</td>\n",
       "    </tr>\n",
       "    <tr>\n",
       "      <td>20243</td>\n",
       "      <td>3466</td>\n",
       "      <td>6</td>\n",
       "      <td>26.224454</td>\n",
       "      <td>1</td>\n",
       "      <td>0</td>\n",
       "      <td>0</td>\n",
       "      <td>2.9481</td>\n",
       "      <td>1.6125</td>\n",
       "      <td>4.5606</td>\n",
       "      <td>0.7445</td>\n",
       "      <td>80000000.0</td>\n",
       "      <td>0.2687</td>\n",
       "      <td>5.8681</td>\n",
       "      <td>23.3485</td>\n",
       "      <td>0.110</td>\n",
       "      <td>3</td>\n",
       "      <td>1</td>\n",
       "    </tr>\n",
       "    <tr>\n",
       "      <td>20244</td>\n",
       "      <td>3466</td>\n",
       "      <td>7</td>\n",
       "      <td>20.917782</td>\n",
       "      <td>1</td>\n",
       "      <td>0</td>\n",
       "      <td>0</td>\n",
       "      <td>2.9481</td>\n",
       "      <td>1.8609</td>\n",
       "      <td>4.8090</td>\n",
       "      <td>0.4241</td>\n",
       "      <td>80000000.0</td>\n",
       "      <td>0.3931</td>\n",
       "      <td>6.1511</td>\n",
       "      <td>31.4628</td>\n",
       "      <td>0.330</td>\n",
       "      <td>4</td>\n",
       "      <td>0</td>\n",
       "    </tr>\n",
       "  </tbody>\n",
       "</table>\n",
       "<p>18805 rows × 17 columns</p>\n",
       "</div>"
      ],
      "text/plain": [
       "       股票编号  年份（年末）     交易日平均价  预增或预减  超涨或超跌  次新股  每股资本公积(元/股)  每股未分配利润(元/股)  \\\n",
       "0         1       1   6.089475      1      0    0       0.1306        0.6765   \n",
       "1         1       2   5.661999      1      0    0       0.2015        1.1579   \n",
       "2         1       3   6.997361      1      0    0       0.2015        1.6314   \n",
       "3         1       4   8.953045      1      0    0       0.2013        2.0567   \n",
       "4         1       5  13.715067      1      0    0       0.2013        2.0695   \n",
       "...     ...     ...        ...    ...    ...  ...          ...           ...   \n",
       "20240  3466       3   6.055550      1      0    0       1.9767        1.5995   \n",
       "20241  3466       4  19.284863      1      0    0       2.9481        1.4406   \n",
       "20242  3466       5  25.935151      1      0    0       2.9481        1.4856   \n",
       "20243  3466       6  26.224454      1      0    0       2.9481        1.6125   \n",
       "20244  3466       7  20.917782      1      0    0       2.9481        1.8609   \n",
       "\n",
       "       每股资本公积(元/股)+每股未分配利润(元/股)  每股现金流量净额(元/股)    实收资本(或股本)  每股收益(期末摊薄，元/股)  \\\n",
       "0                        0.8071        -0.1278  595979092.0          0.4381   \n",
       "1                        1.3594         0.5510  595979092.0          0.6299   \n",
       "2                        1.8329         0.3011  595979092.0          0.5048   \n",
       "3                        2.2580        -0.2822  595979092.0          0.7005   \n",
       "4                        2.2708         0.2087  595979092.0          0.2631   \n",
       "...                         ...            ...          ...             ...   \n",
       "20240                    3.5762         0.3019   60000000.0          0.5825   \n",
       "20241                    4.3887         0.9897   80000000.0          0.4679   \n",
       "20242                    4.4337        -1.4726   80000000.0          0.2738   \n",
       "20243                    4.5606         0.7445   80000000.0          0.2687   \n",
       "20244                    4.8090         0.4241   80000000.0          0.3931   \n",
       "\n",
       "       每股净资产(元/股)  营业总收入同必增长(%)  近两年送转比例  上市时间  是否高转送  \n",
       "0          1.9153       44.0040    0.000    20      0  \n",
       "1          2.5222       30.1415    0.000    21      0  \n",
       "2          3.0249      -13.0055    0.125    22      0  \n",
       "3          3.4804      -21.6632    0.235    23      0  \n",
       "4          3.5235      -15.0603    0.150    24      0  \n",
       "...           ...           ...      ...   ...    ...  \n",
       "20240      4.8430      -10.4560    0.000     0      0  \n",
       "20241      5.6356        9.8894    0.100     1      0  \n",
       "20242      5.7094      -18.0948    0.155     2      0  \n",
       "20243      5.8681       23.3485    0.110     3      1  \n",
       "20244      6.1511       31.4628    0.330     4      0  \n",
       "\n",
       "[18805 rows x 17 columns]"
      ]
     },
     "execution_count": 7,
     "metadata": {},
     "output_type": "execute_result"
    }
   ],
   "source": [
    "data = pd.read_csv('./data.csv', encoding='GBK')\n",
    "f_data = data.loc[data['每股资本公积(元/股)+每股未分配利润(元/股)'] > 0, :]\n",
    "f_data = f_data.iloc[:, 1:]\n",
    "f_data"
   ]
  },
  {
   "cell_type": "code",
   "execution_count": 9,
   "metadata": {},
   "outputs": [],
   "source": [
    "for column in list(f_data.columns[f_data.isnull().sum() > 0]):\n",
    "    mean_val = f_data[column].mean()\n",
    "    f_data[column].fillna(mean_val, inplace=True)\n",
    "f_data.to_csv('./temp.csv', encoding='GBK')"
   ]
  },
  {
   "cell_type": "code",
   "execution_count": 19,
   "metadata": {},
   "outputs": [
    {
     "data": {
      "text/plain": [
       "股票编号                        0\n",
       "年份（年末）                      0\n",
       "交易日平均价                      0\n",
       "预增或预减                       0\n",
       "超涨或超跌                       0\n",
       "次新股                         0\n",
       "每股资本公积(元/股)                 0\n",
       "每股未分配利润(元/股)                0\n",
       "每股资本公积(元/股)+每股未分配利润(元/股)    0\n",
       "每股现金流量净额(元/股)               0\n",
       "实收资本(或股本)                   0\n",
       "每股收益(期末摊薄，元/股)              0\n",
       "每股净资产(元/股)                  0\n",
       "营业总收入同必增长(%)                0\n",
       "近两年送转比例                     0\n",
       "上市时间                        0\n",
       "是否高转送                       0\n",
       "dtype: int64"
      ]
     },
     "execution_count": 19,
     "metadata": {},
     "output_type": "execute_result"
    }
   ],
   "source": [
    "f_data.isnull().sum()"
   ]
  },
  {
   "cell_type": "code",
   "execution_count": 21,
   "metadata": {},
   "outputs": [],
   "source": [
    "def stand_sca(d):\n",
    "    new_d = (d - d.mean())/d.std()\n",
    "    return new_d\n",
    "\n",
    "for column in list(f_data.columns):\n",
    "    if column in ['股票编号','年份（年末）','预增或预减','超涨或超跌','次新股','是否高转送']:\n",
    "        continue\n",
    "    else:\n",
    "        f_data[column] = stand_sca(f_data[column])\n",
    "f_data.to_csv('./fanal_data.csv', encoding='GBK')"
   ]
  },
  {
   "cell_type": "code",
   "execution_count": 21,
   "metadata": {
    "jupyter": {
     "source_hidden": true
    }
   },
   "outputs": [],
   "source": [
    "data = pd.read_csv('./data.csv', encoding='GBK')\n",
    "temp_data = data.iloc[:,1:]"
   ]
  },
  {
   "cell_type": "code",
   "execution_count": 24,
   "metadata": {
    "jupyter": {
     "source_hidden": true
    }
   },
   "outputs": [],
   "source": [
    "t_data = temp_data.loc[temp_data['上市时间'] >=0, :]\n",
    "t_data.to_csv('./temp.csv', encoding='GBK')"
   ]
  },
  {
   "cell_type": "code",
   "execution_count": 2,
   "metadata": {
    "collapsed": true,
    "jupyter": {
     "outputs_hidden": true,
     "source_hidden": true
    }
   },
   "outputs": [
    {
     "name": "stdout",
     "output_type": "stream",
     "text": [
      "   股票编号  年  月   日       开盘价       最高价       最低价       收盘价       成交量  \\\n",
      "0     1  1  1   4  6.102762  6.271052  6.023045  6.226765   45357.0   \n",
      "1     1  1  1   5  6.217908  6.244480  6.120476  6.200193   25875.0   \n",
      "2     1  1  1   6  6.182478  6.262195  6.147049  6.200193   21116.0   \n",
      "3     1  1  1   7  6.200193  6.820212  6.200193  6.820212  197132.0   \n",
      "4     1  1  1  10  6.731638  6.802498  6.421629  6.448201  147756.0   \n",
      "\n",
      "          成交金额  ...  每股息税前利润  每股营业利润  每股盈余公积金  每股未分配利润  每股现金流量净额  每股股利  \\\n",
      "0   31691186.0  ...      NaN -0.1292   0.2567   0.8883    2.3904  0.05   \n",
      "1   18039118.0  ...      NaN -0.1292   0.2567   0.8883    2.3904  0.05   \n",
      "2   14797495.0  ...      NaN -0.1292   0.2567   0.8883    2.3904  0.05   \n",
      "3  150177152.0  ...      NaN -0.1292   0.2567   0.8883    2.3904  0.05   \n",
      "4  110118848.0  ...      NaN -0.1292   0.2567   0.8883    2.3904  0.05   \n",
      "\n",
      "   每股企业自由现金流量  每股经营活动产生的现金流量净额  每股留存收益  每股股东自由现金流量  \n",
      "0     -0.0385          -0.0709  0.0208         NaN  \n",
      "1     -0.0385          -0.0709  0.0208         NaN  \n",
      "2     -0.0385          -0.0709  0.0208         NaN  \n",
      "3     -0.0385          -0.0709  0.0208         NaN  \n",
      "4     -0.0385          -0.0709  0.0208         NaN  \n",
      "\n",
      "[5 rows x 61 columns]\n"
     ]
    }
   ],
   "source": [
    "data_day = pd.read_csv('./A题全部数据/日数据.csv' , encoding='GBK')\n",
    "print(data_day.head())"
   ]
  },
  {
   "cell_type": "code",
   "execution_count": 5,
   "metadata": {
    "jupyter": {
     "source_hidden": true
    }
   },
   "outputs": [],
   "source": [
    "data_basic = pd.read_csv('./Programs/Data/Basic.csv', encoding='GBK')"
   ]
  },
  {
   "cell_type": "code",
   "execution_count": 29,
   "metadata": {
    "jupyter": {
     "source_hidden": true
    }
   },
   "outputs": [],
   "source": [
    "data_year = pd.read_csv('./Programs/Data/Year.csv', encoding='GBK')\n",
    "data_y = data_year.loc[:, ['股票编号', '年份（年末）','是否高转送']]\n",
    "data_y.to_csv('./y_temp.csv', encoding='GBK')\n",
    "\n",
    "data_list = data_y.values.tolist()\n",
    "for i in range(data_y.shape[0]):\n",
    "    if data_list[i][1] == 7:\n",
    "        data_list[i][2] = 0\n",
    "        continue\n",
    "    data_list[i][2] = data_list[i+1][2]\n",
    "x=pd.DataFrame(data_list,columns=['股票编号', '年份（年末）', '是否高转送'])\n",
    "x.to_csv('./temp.csv', encoding='GBK')"
   ]
  },
  {
   "cell_type": "markdown",
   "metadata": {},
   "source": [
    "---"
   ]
  },
  {
   "cell_type": "code",
   "execution_count": 10,
   "metadata": {
    "jupyter": {
     "source_hidden": true
    }
   },
   "outputs": [],
   "source": [
    "data_b = data_basic.loc[:, ['股票编号', '上市年限']]\n",
    "data_y = data_year.loc[:, ['股票编号', '年份（年末）', '每股送转']].fillna(0)\n",
    "\n",
    "data = pd.merge(data_y, data_b, on='股票编号')\n",
    "for i in range(data.shape[0]):\n",
    "    d = data.iloc[i,1]\n",
    "    data.iloc[i,3] = data.iloc[i,3]-7+d\n",
    "data.to_csv('./nx.csv', encoding='GBK')"
   ]
  },
  {
   "cell_type": "markdown",
   "metadata": {},
   "source": [
    "---"
   ]
  },
  {
   "cell_type": "code",
   "execution_count": 11,
   "metadata": {
    "collapsed": true,
    "jupyter": {
     "outputs_hidden": true,
     "source_hidden": true
    }
   },
   "outputs": [
    {
     "name": "stdout",
     "output_type": "stream",
     "text": [
      "<class 'pandas.core.frame.DataFrame'>\n",
      "RangeIndex: 5899132 entries, 0 to 5899131\n",
      "Data columns (total 61 columns):\n",
      "股票编号                             int64\n",
      "年                                int64\n",
      "月                                int64\n",
      "日                                int64\n",
      "开盘价                              float64\n",
      "最高价                              float64\n",
      "最低价                              float64\n",
      "收盘价                              float64\n",
      "成交量                              float64\n",
      "成交金额                             float64\n",
      "息前税后利润                           float64\n",
      "息税前利润                            float64\n",
      "企业自由现金流量                         float64\n",
      "毛利                               float64\n",
      "无息流动负债                           float64\n",
      "无息非流动负债                          float64\n",
      "净债务                              float64\n",
      "净营运资本                            float64\n",
      "留存收益                             float64\n",
      "全部投入资本                           float64\n",
      "120日收益损失方差比                      float64\n",
      "120日收益方差                         float64\n",
      "个股收益的120日峰度                      float64\n",
      "120日损失方差                         float64\n",
      "120日方差                           float64\n",
      "120日信息比率(InformationRatio120)    float64\n",
      "个股120日的beta值                     float64\n",
      "个股120日的alpha                     float64\n",
      "120日特诺雷比率                        float64\n",
      "120日夏普比率                         float64\n",
      "波幅中位数                            float64\n",
      "资金流量指标                           float64\n",
      "过去1年的价格动量                        float64\n",
      "月度换手率对数                          float64\n",
      "120日平均换手率                        float64\n",
      "当前价格处于过去1年股价的位置                  float64\n",
      "流通市值                             float64\n",
      "市净率                              float64\n",
      "市盈率                              float64\n",
      "过去3个月的价格动量                       float64\n",
      "基本每股收益                           float64\n",
      "对数流通市值                           float64\n",
      "总市值                              float64\n",
      "市现率                              float64\n",
      "市销率                              float64\n",
      "稀释每股收益                           float64\n",
      "每股收益TTM值                         float64\n",
      "每股净资产                            float64\n",
      "每股营业收入                           float64\n",
      "每股营业总收入                          float64\n",
      "每股资本公积金                          float64\n",
      "每股息税前利润                          float64\n",
      "每股营业利润                           float64\n",
      "每股盈余公积金                          float64\n",
      "每股未分配利润                          float64\n",
      "每股现金流量净额                         float64\n",
      "每股股利                             float64\n",
      "每股企业自由现金流量                       float64\n",
      "每股经营活动产生的现金流量净额                  float64\n",
      "每股留存收益                           float64\n",
      "每股股东自由现金流量                       float64\n",
      "dtypes: float64(57), int64(4)\n",
      "memory usage: 2.7 GB\n",
      "None\n"
     ]
    }
   ],
   "source": [
    "print(data_day.info())"
   ]
  },
  {
   "cell_type": "code",
   "execution_count": 50,
   "metadata": {
    "collapsed": true,
    "jupyter": {
     "outputs_hidden": true,
     "source_hidden": true
    }
   },
   "outputs": [
    {
     "name": "stdout",
     "output_type": "stream",
     "text": [
      "<class 'pandas.core.frame.DataFrame'>\n",
      "RangeIndex: 24262 entries, 0 to 24261\n",
      "Columns: 362 entries, 股票编号 to 是否高转送\n",
      "dtypes: float64(354), int64(3), object(5)\n",
      "memory usage: 67.0+ MB\n",
      "None\n"
     ]
    }
   ],
   "source": [
    "print(data_year.info())"
   ]
  },
  {
   "cell_type": "code",
   "execution_count": 25,
   "metadata": {
    "collapsed": true,
    "jupyter": {
     "outputs_hidden": true,
     "source_hidden": true
    }
   },
   "outputs": [
    {
     "name": "stdout",
     "output_type": "stream",
     "text": [
      "<class 'pandas.core.frame.DataFrame'>\n",
      "RangeIndex: 3466 entries, 0 to 3465\n",
      "Data columns (total 4 columns):\n",
      "股票编号      3466 non-null int64\n",
      "上市年限      3466 non-null int64\n",
      "所属行业      3466 non-null object\n",
      "所属概念板块    3409 non-null object\n",
      "dtypes: int64(2), object(2)\n",
      "memory usage: 108.4+ KB\n",
      "None\n"
     ]
    }
   ],
   "source": [
    "print(data_basic.info())"
   ]
  },
  {
   "cell_type": "markdown",
   "metadata": {},
   "source": [
    "---"
   ]
  },
  {
   "cell_type": "code",
   "execution_count": 34,
   "metadata": {
    "jupyter": {
     "source_hidden": true
    }
   },
   "outputs": [],
   "source": [
    "temp_data = data_basic.loc[:,['股票编号','所属概念板块']].fillna('')\n",
    "temp = temp_data.values.tolist()\n",
    "\n",
    "def YZYJ_func(data):\n",
    "    YZYJ = []\n",
    "    for i in data:\n",
    "        temp_str = i[1]\n",
    "        if '预增' in temp_str:\n",
    "            YZYJ.append(1)\n",
    "        elif '预减' in temp_str:\n",
    "            YZYJ.append(-1)\n",
    "        else:\n",
    "            YZYJ.append(0)\n",
    "    YZYJ_DF = pd.DataFrame({'股票编号':range(1, data_basic.shape[0]+1), 'YZYJ': YZYJ})\n",
    "    return YZYJ_DF\n",
    "\n",
    "def CZCD_func(data):\n",
    "    CZCD= []\n",
    "    for i in data:\n",
    "        temp_str = i[1]\n",
    "        if '超涨' in temp_str:\n",
    "            CZCD.append(1)\n",
    "        elif '超跌' in temp_str:\n",
    "            CZCD.append(-1)\n",
    "        else:\n",
    "            CZCD.append(0)\n",
    "    CZCD_DF = pd.DataFrame({'股票编号':range(1, data_basic.shape[0]+1), 'CZCD': CZCD})\n",
    "    return CZCD_DF\n",
    "\n",
    "def CXG_func(data):\n",
    "    CXG = []\n",
    "    for i in data:\n",
    "        temp_str = i[1]\n",
    "        if '次新股' in temp_str:\n",
    "            CXG.append(1)\n",
    "        else:\n",
    "            CXG.append(0)\n",
    "    CXG_DF = pd.DataFrame({'股票编号':range(1, data_basic.shape[0]+1), 'CXG': CXG})\n",
    "    return CXG_DF\n",
    "\n",
    "\n",
    "fanal_data = data_basic.loc[:, '股票编号']\n",
    "fanal_data = pd.merge(pd.merge(YZYJ_func(temp), CZCD_func(temp), on='股票编号'), CXG_func(temp), on='股票编号')\n",
    "fanal_data.to_csv('./total.csv', encoding='GBK')"
   ]
  }
 ],
 "metadata": {
  "kernelspec": {
   "display_name": "Python 3",
   "language": "python",
   "name": "python3"
  },
  "language_info": {
   "codemirror_mode": {
    "name": "ipython",
    "version": 3
   },
   "file_extension": ".py",
   "mimetype": "text/x-python",
   "name": "python",
   "nbconvert_exporter": "python",
   "pygments_lexer": "ipython3",
   "version": "3.7.4"
  }
 },
 "nbformat": 4,
 "nbformat_minor": 4
}
