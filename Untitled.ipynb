{
 "cells": [
  {
   "cell_type": "code",
   "execution_count": 1,
   "metadata": {},
   "outputs": [],
   "source": [
    "import numpy as np\n",
    "import pandas as pd"
   ]
  },
  {
   "cell_type": "code",
   "execution_count": 2,
   "metadata": {},
   "outputs": [
    {
     "name": "stdout",
     "output_type": "stream",
     "text": [
      "   股票编号  年  月   日       开盘价       最高价       最低价       收盘价       成交量  \\\n",
      "0     1  1  1   4  6.102762  6.271052  6.023045  6.226765   45357.0   \n",
      "1     1  1  1   5  6.217908  6.244480  6.120476  6.200193   25875.0   \n",
      "2     1  1  1   6  6.182478  6.262195  6.147049  6.200193   21116.0   \n",
      "3     1  1  1   7  6.200193  6.820212  6.200193  6.820212  197132.0   \n",
      "4     1  1  1  10  6.731638  6.802498  6.421629  6.448201  147756.0   \n",
      "\n",
      "          成交金额  ...  每股息税前利润  每股营业利润  每股盈余公积金  每股未分配利润  每股现金流量净额  每股股利  \\\n",
      "0   31691186.0  ...      NaN -0.1292   0.2567   0.8883    2.3904  0.05   \n",
      "1   18039118.0  ...      NaN -0.1292   0.2567   0.8883    2.3904  0.05   \n",
      "2   14797495.0  ...      NaN -0.1292   0.2567   0.8883    2.3904  0.05   \n",
      "3  150177152.0  ...      NaN -0.1292   0.2567   0.8883    2.3904  0.05   \n",
      "4  110118848.0  ...      NaN -0.1292   0.2567   0.8883    2.3904  0.05   \n",
      "\n",
      "   每股企业自由现金流量  每股经营活动产生的现金流量净额  每股留存收益  每股股东自由现金流量  \n",
      "0     -0.0385          -0.0709  0.0208         NaN  \n",
      "1     -0.0385          -0.0709  0.0208         NaN  \n",
      "2     -0.0385          -0.0709  0.0208         NaN  \n",
      "3     -0.0385          -0.0709  0.0208         NaN  \n",
      "4     -0.0385          -0.0709  0.0208         NaN  \n",
      "\n",
      "[5 rows x 61 columns]\n"
     ]
    }
   ],
   "source": [
    "data_day = pd.read_csv('./A题全部数据/日数据.csv' , encoding='GBK')\n",
    "print(data_day.head())"
   ]
  },
  {
   "cell_type": "code",
   "execution_count": 8,
   "metadata": {},
   "outputs": [],
   "source": [
    "data_basic = pd.read_csv('./A题全部数据/基础数据.csv', encoding='GBK')"
   ]
  },
  {
   "cell_type": "code",
   "execution_count": 10,
   "metadata": {},
   "outputs": [],
   "source": [
    "data_year = pd.read_csv('./A题全部数据/年数据.csv', encoding='GBK')"
   ]
  },
  {
   "cell_type": "markdown",
   "metadata": {},
   "source": [
    "---"
   ]
  },
  {
   "cell_type": "code",
   "execution_count": 11,
   "metadata": {
    "collapsed": true,
    "jupyter": {
     "outputs_hidden": true
    }
   },
   "outputs": [
    {
     "name": "stdout",
     "output_type": "stream",
     "text": [
      "<class 'pandas.core.frame.DataFrame'>\n",
      "RangeIndex: 5899132 entries, 0 to 5899131\n",
      "Data columns (total 61 columns):\n",
      "股票编号                             int64\n",
      "年                                int64\n",
      "月                                int64\n",
      "日                                int64\n",
      "开盘价                              float64\n",
      "最高价                              float64\n",
      "最低价                              float64\n",
      "收盘价                              float64\n",
      "成交量                              float64\n",
      "成交金额                             float64\n",
      "息前税后利润                           float64\n",
      "息税前利润                            float64\n",
      "企业自由现金流量                         float64\n",
      "毛利                               float64\n",
      "无息流动负债                           float64\n",
      "无息非流动负债                          float64\n",
      "净债务                              float64\n",
      "净营运资本                            float64\n",
      "留存收益                             float64\n",
      "全部投入资本                           float64\n",
      "120日收益损失方差比                      float64\n",
      "120日收益方差                         float64\n",
      "个股收益的120日峰度                      float64\n",
      "120日损失方差                         float64\n",
      "120日方差                           float64\n",
      "120日信息比率(InformationRatio120)    float64\n",
      "个股120日的beta值                     float64\n",
      "个股120日的alpha                     float64\n",
      "120日特诺雷比率                        float64\n",
      "120日夏普比率                         float64\n",
      "波幅中位数                            float64\n",
      "资金流量指标                           float64\n",
      "过去1年的价格动量                        float64\n",
      "月度换手率对数                          float64\n",
      "120日平均换手率                        float64\n",
      "当前价格处于过去1年股价的位置                  float64\n",
      "流通市值                             float64\n",
      "市净率                              float64\n",
      "市盈率                              float64\n",
      "过去3个月的价格动量                       float64\n",
      "基本每股收益                           float64\n",
      "对数流通市值                           float64\n",
      "总市值                              float64\n",
      "市现率                              float64\n",
      "市销率                              float64\n",
      "稀释每股收益                           float64\n",
      "每股收益TTM值                         float64\n",
      "每股净资产                            float64\n",
      "每股营业收入                           float64\n",
      "每股营业总收入                          float64\n",
      "每股资本公积金                          float64\n",
      "每股息税前利润                          float64\n",
      "每股营业利润                           float64\n",
      "每股盈余公积金                          float64\n",
      "每股未分配利润                          float64\n",
      "每股现金流量净额                         float64\n",
      "每股股利                             float64\n",
      "每股企业自由现金流量                       float64\n",
      "每股经营活动产生的现金流量净额                  float64\n",
      "每股留存收益                           float64\n",
      "每股股东自由现金流量                       float64\n",
      "dtypes: float64(57), int64(4)\n",
      "memory usage: 2.7 GB\n",
      "None\n"
     ]
    }
   ],
   "source": [
    "print(data_day.info())"
   ]
  },
  {
   "cell_type": "code",
   "execution_count": 50,
   "metadata": {},
   "outputs": [
    {
     "name": "stdout",
     "output_type": "stream",
     "text": [
      "<class 'pandas.core.frame.DataFrame'>\n",
      "RangeIndex: 24262 entries, 0 to 24261\n",
      "Columns: 362 entries, 股票编号 to 是否高转送\n",
      "dtypes: float64(354), int64(3), object(5)\n",
      "memory usage: 67.0+ MB\n",
      "None\n"
     ]
    }
   ],
   "source": [
    "print(data_year.info())"
   ]
  },
  {
   "cell_type": "markdown",
   "metadata": {},
   "source": [
    "---"
   ]
  },
  {
   "cell_type": "code",
   "execution_count": 30,
   "metadata": {
    "collapsed": true,
    "jupyter": {
     "outputs_hidden": true
    }
   },
   "outputs": [
    {
     "name": "stdout",
     "output_type": "stream",
     "text": [
      "120日损失方差 方差为 0.006756741601969897\n",
      "个股120日的beta值 方差为 0.16584854085080822\n",
      "波幅中位数 方差为 0.00026218664316629315\n",
      "120日平均换手率 方差为 0.0012067469179379777\n",
      "当前价格处于过去1年股价的位置 方差为 0.09391580611922523\n",
      "基本每股收益 方差为 0.13523172049942925\n",
      "稀释每股收益 方差为 0.13811008156042845\n",
      "每股收益TTM值 方差为 0.1678289854456571\n",
      "每股盈余公积金 方差为 0.0611532855125462\n",
      "每股股利 方差为 0.03187276960142616\n"
     ]
    },
    {
     "ename": "IndexError",
     "evalue": "index 61 is out of bounds for axis 0 with size 61",
     "output_type": "error",
     "traceback": [
      "\u001b[1;31m---------------------------------------------------------------------------\u001b[0m",
      "\u001b[1;31mIndexError\u001b[0m                                Traceback (most recent call last)",
      "\u001b[1;32m<ipython-input-30-d28ed573cf48>\u001b[0m in \u001b[0;36m<module>\u001b[1;34m\u001b[0m\n\u001b[0;32m      1\u001b[0m \u001b[1;32mfor\u001b[0m \u001b[0mi\u001b[0m \u001b[1;32min\u001b[0m \u001b[0mrange\u001b[0m\u001b[1;33m(\u001b[0m\u001b[1;36m4\u001b[0m\u001b[1;33m,\u001b[0m \u001b[1;36m62\u001b[0m\u001b[1;33m)\u001b[0m\u001b[1;33m:\u001b[0m\u001b[1;33m\u001b[0m\u001b[1;33m\u001b[0m\u001b[0m\n\u001b[1;32m----> 2\u001b[1;33m     \u001b[0mtemp\u001b[0m \u001b[1;33m=\u001b[0m \u001b[0mdata_day\u001b[0m\u001b[1;33m[\u001b[0m\u001b[0mdata_day\u001b[0m\u001b[1;33m.\u001b[0m\u001b[0mcolumns\u001b[0m\u001b[1;33m[\u001b[0m\u001b[0mi\u001b[0m\u001b[1;33m]\u001b[0m\u001b[1;33m]\u001b[0m\u001b[1;33m.\u001b[0m\u001b[0mvar\u001b[0m\u001b[1;33m(\u001b[0m\u001b[1;33m)\u001b[0m\u001b[1;33m\u001b[0m\u001b[1;33m\u001b[0m\u001b[0m\n\u001b[0m\u001b[0;32m      3\u001b[0m     \u001b[1;32mif\u001b[0m \u001b[0mtemp\u001b[0m \u001b[1;33m<\u001b[0m \u001b[1;36m0.2\u001b[0m\u001b[1;33m:\u001b[0m\u001b[1;33m\u001b[0m\u001b[1;33m\u001b[0m\u001b[0m\n\u001b[0;32m      4\u001b[0m         \u001b[0mprint\u001b[0m\u001b[1;33m(\u001b[0m\u001b[1;34mf\"{data_day.columns[i]} 方差为 {temp}\"\u001b[0m\u001b[1;33m)\u001b[0m\u001b[1;33m\u001b[0m\u001b[1;33m\u001b[0m\u001b[0m\n",
      "\u001b[1;32m~\\Anaconda3\\lib\\site-packages\\pandas\\core\\indexes\\base.py\u001b[0m in \u001b[0;36m__getitem__\u001b[1;34m(self, key)\u001b[0m\n\u001b[0;32m   4278\u001b[0m         \u001b[1;32mif\u001b[0m \u001b[0mis_scalar\u001b[0m\u001b[1;33m(\u001b[0m\u001b[0mkey\u001b[0m\u001b[1;33m)\u001b[0m\u001b[1;33m:\u001b[0m\u001b[1;33m\u001b[0m\u001b[1;33m\u001b[0m\u001b[0m\n\u001b[0;32m   4279\u001b[0m             \u001b[0mkey\u001b[0m \u001b[1;33m=\u001b[0m \u001b[0mcom\u001b[0m\u001b[1;33m.\u001b[0m\u001b[0mcast_scalar_indexer\u001b[0m\u001b[1;33m(\u001b[0m\u001b[0mkey\u001b[0m\u001b[1;33m)\u001b[0m\u001b[1;33m\u001b[0m\u001b[1;33m\u001b[0m\u001b[0m\n\u001b[1;32m-> 4280\u001b[1;33m             \u001b[1;32mreturn\u001b[0m \u001b[0mgetitem\u001b[0m\u001b[1;33m(\u001b[0m\u001b[0mkey\u001b[0m\u001b[1;33m)\u001b[0m\u001b[1;33m\u001b[0m\u001b[1;33m\u001b[0m\u001b[0m\n\u001b[0m\u001b[0;32m   4281\u001b[0m \u001b[1;33m\u001b[0m\u001b[0m\n\u001b[0;32m   4282\u001b[0m         \u001b[1;32mif\u001b[0m \u001b[0misinstance\u001b[0m\u001b[1;33m(\u001b[0m\u001b[0mkey\u001b[0m\u001b[1;33m,\u001b[0m \u001b[0mslice\u001b[0m\u001b[1;33m)\u001b[0m\u001b[1;33m:\u001b[0m\u001b[1;33m\u001b[0m\u001b[1;33m\u001b[0m\u001b[0m\n",
      "\u001b[1;31mIndexError\u001b[0m: index 61 is out of bounds for axis 0 with size 61"
     ]
    }
   ],
   "source": [
    "\n",
    "for i in range(4, 62):\n",
    "    temp = data_day[data_day.columns[i]].var()\n",
    "    if temp < 0.2:\n",
    "        print(f\"{data_day.columns[i]} 方差为 {temp}\")"
   ]
  },
  {
   "cell_type": "code",
   "execution_count": 56,
   "metadata": {},
   "outputs": [
    {
     "data": {
      "text/html": [
       "<div>\n",
       "<style scoped>\n",
       "    .dataframe tbody tr th:only-of-type {\n",
       "        vertical-align: middle;\n",
       "    }\n",
       "\n",
       "    .dataframe tbody tr th {\n",
       "        vertical-align: top;\n",
       "    }\n",
       "\n",
       "    .dataframe thead th {\n",
       "        text-align: right;\n",
       "    }\n",
       "</style>\n",
       "<table border=\"1\" class=\"dataframe\">\n",
       "  <thead>\n",
       "    <tr style=\"text-align: right;\">\n",
       "      <th></th>\n",
       "      <th>股票编号</th>\n",
       "      <th>年</th>\n",
       "      <th>月</th>\n",
       "      <th>每股盈余公积金</th>\n",
       "      <th>每股收益TTM值</th>\n",
       "      <th>每股净资产</th>\n",
       "      <th>每股现金流量净额</th>\n",
       "    </tr>\n",
       "  </thead>\n",
       "  <tbody>\n",
       "    <tr>\n",
       "      <td>0</td>\n",
       "      <td>1</td>\n",
       "      <td>1</td>\n",
       "      <td>1</td>\n",
       "      <td>0.2567</td>\n",
       "      <td>0.0461</td>\n",
       "      <td>3.0436</td>\n",
       "      <td>2.3904</td>\n",
       "    </tr>\n",
       "    <tr>\n",
       "      <td>1</td>\n",
       "      <td>1</td>\n",
       "      <td>1</td>\n",
       "      <td>2</td>\n",
       "      <td>0.2567</td>\n",
       "      <td>0.0461</td>\n",
       "      <td>3.0436</td>\n",
       "      <td>2.3904</td>\n",
       "    </tr>\n",
       "    <tr>\n",
       "      <td>2</td>\n",
       "      <td>1</td>\n",
       "      <td>1</td>\n",
       "      <td>3</td>\n",
       "      <td>0.2567</td>\n",
       "      <td>0.1021</td>\n",
       "      <td>3.0436</td>\n",
       "      <td>2.4189</td>\n",
       "    </tr>\n",
       "    <tr>\n",
       "      <td>3</td>\n",
       "      <td>1</td>\n",
       "      <td>1</td>\n",
       "      <td>4</td>\n",
       "      <td>0.2567</td>\n",
       "      <td>0.1021</td>\n",
       "      <td>3.0436</td>\n",
       "      <td>2.4189</td>\n",
       "    </tr>\n",
       "    <tr>\n",
       "      <td>4</td>\n",
       "      <td>1</td>\n",
       "      <td>1</td>\n",
       "      <td>5</td>\n",
       "      <td>0.2809</td>\n",
       "      <td>0.0526</td>\n",
       "      <td>3.1628</td>\n",
       "      <td>-0.8803</td>\n",
       "    </tr>\n",
       "    <tr>\n",
       "      <td>...</td>\n",
       "      <td>...</td>\n",
       "      <td>...</td>\n",
       "      <td>...</td>\n",
       "      <td>...</td>\n",
       "      <td>...</td>\n",
       "      <td>...</td>\n",
       "      <td>...</td>\n",
       "    </tr>\n",
       "    <tr>\n",
       "      <td>291139</td>\n",
       "      <td>3466</td>\n",
       "      <td>7</td>\n",
       "      <td>8</td>\n",
       "      <td>0.1739</td>\n",
       "      <td>0.1091</td>\n",
       "      <td>3.272</td>\n",
       "      <td>0.1158</td>\n",
       "    </tr>\n",
       "    <tr>\n",
       "      <td>291140</td>\n",
       "      <td>3466</td>\n",
       "      <td>7</td>\n",
       "      <td>9</td>\n",
       "      <td>0.1565</td>\n",
       "      <td>0.2083</td>\n",
       "      <td>3.9019</td>\n",
       "      <td>0.1724</td>\n",
       "    </tr>\n",
       "    <tr>\n",
       "      <td>291141</td>\n",
       "      <td>3466</td>\n",
       "      <td>7</td>\n",
       "      <td>10</td>\n",
       "      <td>0.1565</td>\n",
       "      <td>0.2083</td>\n",
       "      <td>3.9019</td>\n",
       "      <td>0.1724</td>\n",
       "    </tr>\n",
       "    <tr>\n",
       "      <td>291142</td>\n",
       "      <td>3466</td>\n",
       "      <td>7</td>\n",
       "      <td>11</td>\n",
       "      <td>0.1565</td>\n",
       "      <td>0.2999</td>\n",
       "      <td>4.1835</td>\n",
       "      <td>0.226</td>\n",
       "    </tr>\n",
       "    <tr>\n",
       "      <td>291143</td>\n",
       "      <td>3466</td>\n",
       "      <td>7</td>\n",
       "      <td>12</td>\n",
       "      <td>0.1565</td>\n",
       "      <td>0.2999</td>\n",
       "      <td>4.1835</td>\n",
       "      <td>0.226</td>\n",
       "    </tr>\n",
       "  </tbody>\n",
       "</table>\n",
       "<p>291144 rows × 7 columns</p>\n",
       "</div>"
      ],
      "text/plain": [
       "        股票编号  年   月 每股盈余公积金 每股收益TTM值   每股净资产 每股现金流量净额\n",
       "0          1  1   1  0.2567   0.0461  3.0436   2.3904\n",
       "1          1  1   2  0.2567   0.0461  3.0436   2.3904\n",
       "2          1  1   3  0.2567   0.1021  3.0436   2.4189\n",
       "3          1  1   4  0.2567   0.1021  3.0436   2.4189\n",
       "4          1  1   5  0.2809   0.0526  3.1628  -0.8803\n",
       "...      ... ..  ..     ...      ...     ...      ...\n",
       "291139  3466  7   8  0.1739   0.1091   3.272   0.1158\n",
       "291140  3466  7   9  0.1565   0.2083  3.9019   0.1724\n",
       "291141  3466  7  10  0.1565   0.2083  3.9019   0.1724\n",
       "291142  3466  7  11  0.1565   0.2999  4.1835    0.226\n",
       "291143  3466  7  12  0.1565   0.2999  4.1835    0.226\n",
       "\n",
       "[291144 rows x 7 columns]"
      ]
     },
     "execution_count": 56,
     "metadata": {},
     "output_type": "execute_result"
    }
   ],
   "source": [
    "group_data = data_day.groupby(by=['股票编号','年','月'])[['每股盈余公积金','每股收益TTM值','每股净资产','每股现金流量净额']].agg(lambda x:x.mode()).reset_index()\n",
    "group_data"
   ]
  },
  {
   "cell_type": "code",
   "execution_count": null,
   "metadata": {},
   "outputs": [],
   "source": []
  }
 ],
 "metadata": {
  "kernelspec": {
   "display_name": "Python 3",
   "language": "python",
   "name": "python3"
  },
  "language_info": {
   "codemirror_mode": {
    "name": "ipython",
    "version": 3
   },
   "file_extension": ".py",
   "mimetype": "text/x-python",
   "name": "python",
   "nbconvert_exporter": "python",
   "pygments_lexer": "ipython3",
   "version": "3.7.4"
  }
 },
 "nbformat": 4,
 "nbformat_minor": 4
}
